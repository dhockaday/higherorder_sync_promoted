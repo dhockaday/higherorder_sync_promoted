{
 "cells": [
  {
   "cell_type": "markdown",
   "id": "8ac6b236",
   "metadata": {},
   "source": [
    "# Code for figures 1 and 2"
   ]
  },
  {
   "cell_type": "markdown",
   "id": "f9c4b4da",
   "metadata": {},
   "source": [
    "This code was used for the analysis presented in  \n",
    "\"Do higher-order interactions promote synchronization?\"  \n",
    "by Yuanzhao Zhang, Maxime Lucas, and Federico Battiston"
   ]
  },
  {
   "cell_type": "code",
   "execution_count": 1,
   "id": "db1c3085",
   "metadata": {},
   "outputs": [],
   "source": [
    "import matplotlib.pyplot as plt\n",
    "import networkx as nx\n",
    "import numpy as np\n",
    "import seaborn as sb\n",
    "from labellines import labelLines \n",
    "\n",
    "import utils as hu # separate script with our functions\n",
    "\n",
    "sb.set_context(\"paper\")\n",
    "sb.set_theme(style=\"ticks\")"
   ]
  },
  {
   "cell_type": "markdown",
   "id": "e12134c3",
   "metadata": {},
   "source": [
    "## Fig. 1: Lyapunov exponents for random hypergraph and simplicial complexes"
   ]
  },
  {
   "cell_type": "markdown",
   "id": "69195c02",
   "metadata": {},
   "source": [
    "First, we generate the random hyperedges."
   ]
  },
  {
   "cell_type": "code",
   "execution_count": 4,
   "id": "3a2a1e2b",
   "metadata": {},
   "outputs": [],
   "source": [
    "N = 100 # number of nodes\n",
    "ps = [0.1, 0.1] # ps[i] is the wiring probability of any i+2 nodes (ps[0] is for edges, e.g.)\n",
    "alpha = 0.5 # ratio between coupling strength of 1st and 2nd order interaction (must be in [0,1])\n",
    "# rescale = True # whether to reascel \n",
    "\n",
    "n_repetitions = 50 # number of realisations of random hypergraph\n",
    "\n",
    "# generate hyperedges of random hypergraph \n",
    "hyperedges_random_HG_arr = [hu.random_hypergraph(N, ps) for i in range(n_repetitions)]"
   ]
  },
  {
   "cell_type": "code",
   "execution_count": 8,
   "id": "42b9633e",
   "metadata": {},
   "outputs": [],
   "source": [
    "# generate hyperedges of random simplicial complex\n",
    "hyperedges_random_MSC_arr = [hu.random_maximal_simplicial_complex_d2(N, p=0.5) for i in range(n_repetitions)]"
   ]
  },
  {
   "cell_type": "markdown",
   "id": "c8c38c5c",
   "metadata": {},
   "source": [
    "Then, we compute the Laplacians and the associated Lyapunov exponents."
   ]
  },
  {
   "cell_type": "code",
   "execution_count": 9,
   "id": "af710093",
   "metadata": {},
   "outputs": [],
   "source": [
    "alphas = np.arange(0, 1.01, 0.1)\n",
    "n_alpha = len(alphas)\n",
    "\n",
    "lyaps_alpha_HG_arr = np.zeros((n_alpha, N, n_repetitions))\n",
    "\n",
    "# compute Lyapunov exponents for all alpha values\n",
    "for j, hyperedges_random_HG in enumerate(hyperedges_random_HG_arr): \n",
    "    \n",
    "    for i, alpha in enumerate(alphas) : \n",
    "        lyap_1, lyap_2, lyap_12 = hu.compute_eigenvalues_resource_constrained(hyperedges_random_HG, N, alpha=alpha)\n",
    "        lyap_s_HG = np.sort(lyap_12)[::-1]\n",
    "        lyaps_alpha_HG_arr[i,:,j] = lyap_s_HG \n",
    "        \n",
    "lyaps_alpha_MSC_arr = np.zeros((n_alpha, N, n_repetitions))\n",
    "\n",
    "# compute Lyapunov exponents for all alpha values\n",
    "for j, hyperedges_random_MSC in enumerate(hyperedges_random_MSC_arr): \n",
    "    \n",
    "    for i, alpha in enumerate(alphas) : \n",
    "        lyap_1, lyap_2, lyap_12 = hu.compute_eigenvalues_resource_constrained(hyperedges_random_MSC, N, alpha=alpha)\n",
    "        lyap_s_MSC = np.sort(lyap_12)[::-1]\n",
    "        lyaps_alpha_MSC_arr[i,:,j] = lyap_s_MSC            "
   ]
  },
  {
   "cell_type": "code",
   "execution_count": 10,
   "id": "c9316634",
   "metadata": {},
   "outputs": [],
   "source": [
    "# average over the random realisations\n",
    "means_HG = np.mean(lyaps_alpha_HG_arr[:, 1,:], axis=1)\n",
    "std_HG = np.std(lyaps_alpha_HG_arr[:, 1,:], axis=1)\n",
    "\n",
    "means_MSC = np.mean(lyaps_alpha_MSC_arr[:, 1,:], axis=1)\n",
    "std_MSC = np.std(lyaps_alpha_MSC_arr[:, 1,:], axis=1)"
   ]
  },
  {
   "cell_type": "code",
   "execution_count": 12,
   "id": "62b8a453",
   "metadata": {},
   "outputs": [
    {
     "data": {
      "image/png": "[encoded data removed]",
      "text/plain": [
       "<Figure size 288x194.4 with 1 Axes>"
      ]
     },
     "metadata": {},
     "output_type": "display_data"
    }
   ],
   "source": [
    "fig, ax = plt.subplots(figsize=(4, 2.7))\n",
    "\n",
    "# sb.set_palette('tab10')\n",
    "\n",
    "ax.errorbar(alphas, means_HG, yerr=std_HG/np.sqrt(n_repetitions), fmt='-o', color='C0', \n",
    "            ecolor='gray', elinewidth=3, capsize=0, label='hypergraph')\n",
    "\n",
    "ax.errorbar(alphas, means_MSC, yerr=std_MSC/np.sqrt(n_repetitions), fmt='-o', color='C2',\n",
    "            ecolor='gray', elinewidth=3, capsize=0, label='simplicial complex')\n",
    "\n",
    "\n",
    "ax.set_ylabel(r\"$\\lambda_2$\")\n",
    "ax.set_xlabel(r\"$\\alpha$\")\n",
    "\n",
    "ax.set_xticks([0, 0.5, 1])\n",
    "\n",
    "# pretty curves labels instead of legend\n",
    "xvals = [0.22, 0.23]\n",
    "labelLines(plt.gca().get_lines(), align=True, xvals=xvals, yoffsets=[0.1, -0.1])\n",
    "\n",
    "sb.despine()\n",
    "# ax.legend()\n",
    "\n",
    "fig_name = f\"lambda2_HG_SC_N_{N}_ps_{ps}_nrep_{n_repetitions}\"\n",
    "\n",
    "# plt.savefig(f\"{fig_name}.pdf\", dpi=250, bbox_inches=\"tight\")\n",
    "\n",
    "plt.show()"
   ]
  },
  {
   "cell_type": "markdown",
   "id": "63714c01",
   "metadata": {},
   "source": [
    "## Fig. 2: Pairwise and non-pairwise interactions synergize to optimize synchronization"
   ]
  },
  {
   "cell_type": "markdown",
   "id": "35dafffe",
   "metadata": {},
   "source": [
    "First, we generate the random hypergraphs"
   ]
  },
  {
   "cell_type": "code",
   "execution_count": 19,
   "id": "ebc371c8",
   "metadata": {},
   "outputs": [],
   "source": [
    "N = 100 # number of nodes\n",
    "\n",
    "p_0s = [0.2, 0.4, 0.6, 0.8]\n",
    "p_1 = 0.05\n",
    "alphas = np.arange(0, 1.01, 0.05)\n",
    "\n",
    "lyaps_arr = np.zeros((len(p_0s), len(alphas), N))\n",
    "\n",
    "for j, p_0 in enumerate(p_0s) : \n",
    "    \n",
    "    ps = [p_0, p_1] # ps[i] is the wiring probability of any i+2 nodes (ps[0] is for edges, e.g.)\n",
    "\n",
    "    # generate hyperedges \n",
    "    hyperedges_random = hu.random_hypergraph(N, ps)\n",
    "\n",
    "    _, _, lyaps_12 = hu.compute_eigenvalues_resource_constrained_alphas(hyperedges_random, N, alphas)\n",
    "    lyaps_12_s = np.sort(lyaps_12)[:, ::-1]\n",
    "    lyaps_arr[j] = lyaps_12_s"
   ]
  },
  {
   "cell_type": "markdown",
   "id": "23763af8",
   "metadata": {},
   "source": [
    "Then, we plot the results"
   ]
  },
  {
   "cell_type": "code",
   "execution_count": 20,
   "id": "d4dd86fd",
   "metadata": {},
   "outputs": [
    {
     "data": {
      "image/png": "[encoded data removed]",
      "text/plain": [
       "<Figure size 288x194.4 with 2 Axes>"
      ]
     },
     "metadata": {},
     "output_type": "display_data"
    }
   ],
   "source": [
    "fig, ax = plt.subplots(figsize=(4, 2.7))\n",
    "\n",
    "palette = sb.dark_palette(\"#69d\", reverse=True)\n",
    "sb.set_palette(palette)\n",
    "\n",
    "for i, p_0 in enumerate(p_0s) : \n",
    "    \n",
    "    ax.plot(alphas, lyaps_arr[i,:,1], 'o-', label=f\"$p={p_0:.1f}$\", ms=5)\n",
    "\n",
    "def bound_multi(alpha, hyperedges, N) : \n",
    "    \"\"\"Returns the lower bound N/(N-1) k_min\"\"\"\n",
    "    L1, L2, L12, K1, K2 = hu.compute_laplacians_resource_constrained(hyperedges, N, alpha=alpha, return_k=True)\n",
    "    K12 = np.diag(L12)\n",
    "    return - (N / (N - 1)) * np.min(K12)\n",
    "\n",
    "bound = np.array([bound_multi(alpha, hyperedges_random, N) for alpha in alphas])\n",
    "\n",
    "ax.set_ylabel(r\"$\\lambda_2$\")\n",
    "ax.set_xlabel(r\"$\\alpha$\")\n",
    "\n",
    "ax.set_yticks([-0.5, -0.7, -0.9])\n",
    "ax.set_xticks([0, 0.5, 1])\n",
    "\n",
    "xvals = [0.1] * 4\n",
    "labelLines(plt.gca().get_lines(), align=True, xvals=xvals, yoffsets=-0.035)\n",
    "\n",
    "# add inset with bound\n",
    "from mpl_toolkits.axes_grid1.inset_locator import inset_axes\n",
    "# Create inset of width 30% and height 40% of the parent axes' bounding box\n",
    "# at the lower left corner (loc=3)\n",
    "axins = inset_axes(ax, width=\"40%\", height=\"40%\")\n",
    "k = 3\n",
    "axins.plot(alphas, lyaps_arr[k,:,1], 'o-', c=f\"C{k}\",  label=f\"$p={p_0s[k]:.1f}$\", ms=5)\n",
    "axins.plot(alphas, bound, '--', label='bound', c=\"grey\")\n",
    "\n",
    "axins.set_ylabel(r\"$\\lambda_2$\")\n",
    "axins.set_xlabel(r\"$\\alpha$\")\n",
    "axins.set_yticklabels([])\n",
    "\n",
    "xvals = [0.66, 0.85]\n",
    "labelLines(plt.gca().get_lines(), align=True, xvals=xvals, yoffsets=[0.03, -0.03])\n",
    "# axins.legend()\n",
    "\n",
    "sb.despine()\n",
    "\n",
    "ax.text(0.99, 0.02, \"(a)\", transform=ax.transAxes, va=\"bottom\", ha=\"right\", weight=\"bold\")\n",
    "axins.text(0.015, 0.03, \"(b)\", transform=axins.transAxes, va=\"bottom\", ha=\"left\", weight=\"bold\")\n",
    "\n",
    "fig_name = f\"phase_diagram_lines_p1_{p_1}_3\"\n",
    "# plt.savefig(f\"{fig_name}.pdf\", dpi=250, bbox_inches=\"tight\")\n",
    "\n",
    "plt.show()\n"
   ]
  },
  {
   "cell_type": "code",
   "execution_count": null,
   "id": "1c1676e0",
   "metadata": {},
   "outputs": [],
   "source": []
  }
 ],
 "metadata": {
  "kernelspec": {
   "display_name": "Python 3 (ipykernel)",
   "language": "python",
   "name": "python3"
  },
  "language_info": {
   "codemirror_mode": {
    "name": "ipython",
    "version": 3
   },
   "file_extension": ".py",
   "mimetype": "text/x-python",
   "name": "python",
   "nbconvert_exporter": "python",
   "pygments_lexer": "ipython3",
   "version": "3.9.10"
  }
 },
 "nbformat": 4,
 "nbformat_minor": 5
}
