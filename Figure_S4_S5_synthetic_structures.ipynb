{
 "cells": [
  {
   "cell_type": "markdown",
   "id": "53ced03e",
   "metadata": {},
   "source": [
    "# Synchronization stability of simplicial complexes generated from scale-free and small-world networks"
   ]
  },
  {
   "cell_type": "markdown",
   "id": "ccaf1528",
   "metadata": {},
   "source": [
    "This code was used for the analysis presented in  \n",
    "\"Do higher-order interactions promote synchronization?\"  \n",
    "by Yuanzhao Zhang, Maxime Lucas, and Federico Battiston"
   ]
  },
  {
   "cell_type": "code",
   "execution_count": 3,
   "id": "a568937e",
   "metadata": {},
   "outputs": [],
   "source": [
    "from pathlib import Path\n",
    "\n",
    "import matplotlib.pyplot as plt\n",
    "import networkx as nx\n",
    "import numpy as np\n",
    "import seaborn as sb\n",
    "from labellines import labelLines\n",
    "from tqdm import tqdm\n",
    "\n",
    "import xgi\n",
    "from utils import (\n",
    "    compute_eigenvalues_multi,\n",
    "    flag_complex_d2,\n",
    ")\n",
    "\n",
    "sb.set_theme(style=\"ticks\", context=\"paper\")\n",
    "\n",
    "fig_dir = \"figures/\"\n",
    "results_dir = \"results/\"\n",
    "\n",
    "Path(fig_dir).mkdir(parents=True, exist_ok=True)\n",
    "Path(results_dir).mkdir(parents=True, exist_ok=True)"
   ]
  },
  {
   "cell_type": "markdown",
   "id": "f18878ea",
   "metadata": {},
   "source": [
    "## Fig S4: BA structures"
   ]
  },
  {
   "cell_type": "code",
   "execution_count": 31,
   "id": "f2eba968",
   "metadata": {},
   "outputs": [
    {
     "name": "stderr",
     "output_type": "stream",
     "text": [
      "100%|████████████████████████████████████████████████████████| 4/4 [1:05:56<00:00, 989.19s/it]\n"
     ]
    }
   ],
   "source": [
    "N = 300\n",
    "M = [20, 40, 60, 80]\n",
    "\n",
    "BASs = []\n",
    "\n",
    "# generate structures\n",
    "for j, m in enumerate(tqdm(M)):\n",
    "\n",
    "    # generate BA graphs:\n",
    "    # A graph of N nodes is grown by attaching new nodes each with m edges\n",
    "    # that are preferentially attached to existing nodes with high degree.\n",
    "    barabasi_albert = nx.barabasi_albert_graph(N, m, seed=42)\n",
    "\n",
    "    # generate maximum simplicial complex\n",
    "    MSC = flag_complex_d2(barabasi_albert)\n",
    "\n",
    "    BASs.append(MSC)"
   ]
  },
  {
   "cell_type": "code",
   "execution_count": 32,
   "id": "d6c8f011",
   "metadata": {},
   "outputs": [
    {
     "name": "stderr",
     "output_type": "stream",
     "text": [
      "100%|███████████████████████████████████████████████████████████| 4/4 [02:26<00:00, 36.55s/it]\n"
     ]
    }
   ],
   "source": [
    "alphas = np.arange(0, 1.01, 0.05)\n",
    "\n",
    "lyaps_BASs = np.zeros((len(M), len(alphas), N))\n",
    "\n",
    "# compute Lyapunov exponents\n",
    "for j, S in enumerate(tqdm(BASs)):\n",
    "\n",
    "    for i, alpha in enumerate(alphas):\n",
    "\n",
    "        lyap_multi = compute_eigenvalues_multi(\n",
    "            S, orders=[1, 2], weights=[1 - alpha, alpha]\n",
    "        )\n",
    "\n",
    "        lyap_multi = np.sort(lyap_multi)[::-1]\n",
    "        lyaps_BASs[j, i, :] = lyap_multi"
   ]
  },
  {
   "cell_type": "code",
   "execution_count": 67,
   "id": "f4d2cd4e",
   "metadata": {},
   "outputs": [
    {
     "data": {
      "image/png": "[encoded data removed]",
      "text/plain": [
       "<Figure size 340x235 with 1 Axes>"
      ]
     },
     "metadata": {},
     "output_type": "display_data"
    }
   ],
   "source": [
    "fig, ax = plt.subplots(figsize=(3.4, 2.35))\n",
    "\n",
    "palette = sb.dark_palette(\"#69d\", reverse=True)\n",
    "sb.set_palette(palette)\n",
    "\n",
    "for i, m in enumerate(M):\n",
    "    ax.plot(alphas, lyaps_BASs[i, :, 1], \"o-\", label=f\"$m={m:.0f}$\", ms=5)\n",
    "\n",
    "ax.set_ylabel(r\"$\\lambda_2$\")\n",
    "ax.set_xlabel(r\"$\\alpha$\")\n",
    "\n",
    "ax.set_yticks([-0.0, -0.3, -0.6])\n",
    "ax.set_xticks([0, 0.5, 1])\n",
    "\n",
    "xvals = [0.15] * 4\n",
    "offsets = [0.045, -0.01, -0.049, -0.049]\n",
    "labelLines(\n",
    "    plt.gca().get_lines(), align=True, xvals=xvals, yoffsets=offsets, outline_width=5\n",
    ")\n",
    "\n",
    "sb.despine()\n",
    "\n",
    "fig_name = f\"figure_S4_MSC_barabasi_albert\"\n",
    "plt.savefig(f\"{fig_dir}{fig_name}.pdf\", dpi=250, bbox_inches=\"tight\")\n",
    "\n",
    "plt.show()"
   ]
  },
  {
   "cell_type": "markdown",
   "id": "a8126547",
   "metadata": {},
   "source": [
    "## Fig S5: WS structures"
   ]
  },
  {
   "cell_type": "code",
   "execution_count": 22,
   "id": "7aac191f",
   "metadata": {},
   "outputs": [
    {
     "name": "stderr",
     "output_type": "stream",
     "text": [
      "100%|██████████████████████████████████████████████████████████| 4/4 [23:26<00:00, 351.74s/it]\n"
     ]
    }
   ],
   "source": [
    "N = 300  # Size of the graph\n",
    "M = [\n",
    "    30,\n",
    "    50,\n",
    "    70,\n",
    "    90,\n",
    "]  # Each node is joined with its m nearest neighbors in a ring topology\n",
    "p = 0.15  # The probability of rewiring each edge\n",
    "\n",
    "WSs = []\n",
    "\n",
    "# generate structures\n",
    "for j, m in enumerate(tqdm(M)):\n",
    "\n",
    "    # generate SW graphs\n",
    "    watts_strogatz = nx.watts_strogatz_graph(N, m, p)\n",
    "\n",
    "    # generate maximum simplicial complex\n",
    "    MSC = flag_complex_d2(watts_strogatz)\n",
    "\n",
    "    WSs.append(MSC)"
   ]
  },
  {
   "cell_type": "code",
   "execution_count": 23,
   "id": "27f30efe",
   "metadata": {},
   "outputs": [
    {
     "name": "stderr",
     "output_type": "stream",
     "text": [
      "100%|███████████████████████████████████████████████████████████| 4/4 [01:18<00:00, 19.71s/it]\n"
     ]
    }
   ],
   "source": [
    "alphas = np.arange(0, 1.01, 0.05)\n",
    "\n",
    "lyaps_WS = np.zeros((len(M), len(alphas), N))\n",
    "\n",
    "# compute Lyapunov exponents\n",
    "for j, S in enumerate(tqdm(WSs)):\n",
    "\n",
    "    for i, alpha in enumerate(alphas):\n",
    "\n",
    "        lyap_multi = compute_eigenvalues_multi(\n",
    "            S, orders=[1, 2], weights=[1 - alpha, alpha]\n",
    "        )\n",
    "\n",
    "        lyap_multi = np.sort(lyap_multi)[::-1]\n",
    "        lyaps_WS[j, i, :] = lyap_multi"
   ]
  },
  {
   "cell_type": "code",
   "execution_count": 30,
   "id": "f103eb7b",
   "metadata": {},
   "outputs": [
    {
     "data": {
      "image/png": "[encoded data removed]",
      "text/plain": [
       "<Figure size 340x235 with 1 Axes>"
      ]
     },
     "metadata": {},
     "output_type": "display_data"
    }
   ],
   "source": [
    "fig, ax = plt.subplots(figsize=(3.4, 2.35))\n",
    "\n",
    "palette = sb.dark_palette(\"#69d\", reverse=True)\n",
    "sb.set_palette(palette)\n",
    "\n",
    "for i, m in enumerate(M):\n",
    "    ax.plot(alphas, lyaps_WS[i, :, 1], \"o-\", label=f\"$m={m:.0f}$\", ms=5)\n",
    "\n",
    "ax.set_ylabel(r\"$\\lambda_2$\")\n",
    "ax.set_xlabel(r\"$\\alpha$\")\n",
    "\n",
    "ax.set_yticks([-0.0, -0.1, -0.2, -0.3])\n",
    "ax.set_xticks([0, 0.5, 1])\n",
    "\n",
    "xvals = [0.1] * 4\n",
    "labelLines(\n",
    "    plt.gca().get_lines(), align=True, xvals=xvals, yoffsets=0.019, outline_width=3\n",
    ")\n",
    "\n",
    "sb.despine()\n",
    "\n",
    "fig_name = f\"fig_S5_MSC_watts_strogatz\"\n",
    "plt.savefig(f\"{fig_dir}{fig_name}.pdf\", dpi=250, bbox_inches=\"tight\")\n",
    "\n",
    "plt.show()"
   ]
  },
  {
   "cell_type": "code",
   "execution_count": null,
   "id": "74a49c84",
   "metadata": {},
   "outputs": [],
   "source": []
  }
 ],
 "metadata": {
  "kernelspec": {
   "display_name": "venv_xgi",
   "language": "python",
   "name": "venv_xgi"
  },
  "language_info": {
   "codemirror_mode": {
    "name": "ipython",
    "version": 3
   },
   "file_extension": ".py",
   "mimetype": "text/x-python",
   "name": "python",
   "nbconvert_exporter": "python",
   "pygments_lexer": "ipython3",
   "version": "3.9.13"
  },
  "toc": {
   "base_numbering": 1,
   "nav_menu": {},
   "number_sections": true,
   "sideBar": true,
   "skip_h1_title": false,
   "title_cell": "Table of Contents",
   "title_sidebar": "Contents",
   "toc_cell": false,
   "toc_position": {},
   "toc_section_display": true,
   "toc_window_display": true
  }
 },
 "nbformat": 4,
 "nbformat_minor": 5
}
