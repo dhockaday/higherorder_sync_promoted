{
 "cells": [
  {
   "cell_type": "markdown",
   "metadata": {},
   "source": [
    "# Code for figure 4"
   ]
  },
  {
   "cell_type": "markdown",
   "metadata": {},
   "source": [
    "This code was used for the analysis presented in  \n",
    "\"Do higher-order interactions promote synchronization?\"  \n",
    "by Yuanzhao Zhang, Maxime Lucas, and Federico Battiston"
   ]
  },
  {
   "cell_type": "code",
   "execution_count": 5,
   "metadata": {},
   "outputs": [],
   "source": [
    "from pathlib import Path\n",
    "\n",
    "import numpy as np\n",
    "import matplotlib.pyplot as plt\n",
    "import seaborn as sb\n",
    "from tqdm import tqdm\n",
    "\n",
    "import xgi\n",
    "\n",
    "sb.set_theme(style=\"ticks\", context=\"paper\")\n",
    "\n",
    "fig_dir = \"figures/\"\n",
    "results_dir = \"results/\"\n",
    "\n",
    "Path(fig_dir).mkdir(parents=True, exist_ok=True)\n",
    "Path(results_dir).mkdir(parents=True, exist_ok=True)"
   ]
  },
  {
   "cell_type": "markdown",
   "metadata": {},
   "source": [
    "# Fig. 4: Higher-order interactions decrease degree heterogeneity in random hypergraphs"
   ]
  },
  {
   "cell_type": "code",
   "execution_count": 15,
   "metadata": {},
   "outputs": [],
   "source": [
    "# load if already computed\n",
    "with np.load(f\"{results_dir}figure_4_data_v2.npz\") as data:\n",
    "    Ns = data[\"Ns\"]\n",
    "    heterogeneity = data[\"heterogeneity\"]\n",
    "    heterogeneity2 = data[\"heterogeneity2\"]"
   ]
  },
  {
   "cell_type": "code",
   "execution_count": 16,
   "metadata": {},
   "outputs": [
    {
     "data": {
      "image/png": "[encoded data removed]",
      "text/plain": [
       "<Figure size 350x236 with 1 Axes>"
      ]
     },
     "metadata": {},
     "output_type": "display_data"
    }
   ],
   "source": [
    "fig, ax = plt.subplots(figsize=(3.5, 2.36))\n",
    "\n",
    "ax.set_xlabel(r\"$n$\")\n",
    "ax.set_ylabel(r\"$h^{(1)} / h^{(2)}$\")\n",
    "# ax.set_ylabel(r\"$r'$\")\n",
    "\n",
    "ax.plot(Ns, heterogeneity / heterogeneity2, marker=\"o\", c=\"b\", label=\"Simulations\")\n",
    "ax.plot(\n",
    "    Ns,\n",
    "    np.sqrt(Ns) / 2,\n",
    "    marker=\"o\",\n",
    "    c=\"grey\",\n",
    "    mfc=\"white\",\n",
    "    label=\"Theoretical bound\",\n",
    ")\n",
    "\n",
    "ax.set_yticks([5, 10, 15])\n",
    "ax.set_xticks([100, 300, 500])\n",
    "\n",
    "ax.legend(loc=\"upper left\", frameon=False)\n",
    "\n",
    "sb.despine()\n",
    "\n",
    "fig_name = f\"figure_4\"\n",
    "plt.savefig(f\"{fig_dir}{fig_name}.pdf\", dpi=250, bbox_inches=\"tight\")\n",
    "\n",
    "plt.show()"
   ]
  },
  {
   "cell_type": "code",
   "execution_count": 12,
   "metadata": {},
   "outputs": [
    {
     "name": "stderr",
     "output_type": "stream",
     "text": [
      "100%|████████████████████████████████████████████████████████| 9/9 [41:30<00:00, 276.73s/it]\n"
     ]
    }
   ],
   "source": [
    "# if not already computed, compute\n",
    "# can take a bit of time\n",
    "## compute the expected values of min and max degrees using both simulations and theory\n",
    "\n",
    "Ns = np.arange(100, 501, 50)\n",
    "K = np.zeros((8, len(Ns)))\n",
    "sample = 50\n",
    "\n",
    "for j in tqdm(range(len(Ns))):\n",
    "    # generate min and max degrees numerically to compare with theory\n",
    "    K_min = np.zeros(sample)\n",
    "    K_max = np.zeros(sample)\n",
    "\n",
    "    K_min_2 = np.zeros(sample)\n",
    "    K_max_2 = np.zeros(sample)\n",
    "\n",
    "    N = Ns[j]  # number of nodes\n",
    "    ps = [\n",
    "        0.1,\n",
    "        0.1,\n",
    "    ]  # ps[i] is the wiring probability of any i+2 nodes (ps[0] is for edges, e.g.)\n",
    "    alpha = 0.5\n",
    "\n",
    "    for i in range(sample):\n",
    "\n",
    "        # generate hyperedges\n",
    "        H = xgi.random_hypergraph(N, ps)\n",
    "        \n",
    "        K_min[i] = H.nodes.degree(order=1).min() #np.min(K1)\n",
    "        K_max[i] = H.nodes.degree(order=1).max() #np.max(K1)\n",
    "        K_min_2[i] = H.nodes.degree(order=2).min()# np.min(K2)\n",
    "        K_max_2[i] = H.nodes.degree(order=2).max() #np.max(K2)\n",
    "\n",
    "    K[0, j] = np.mean(K_min)\n",
    "    K[1, j] = np.mean(K_max)\n",
    "    K[2, j] = np.mean(K_min_2)\n",
    "    K[3, j] = np.mean(K_max_2)\n",
    "\n",
    "    p = 0.1\n",
    "    q = 1 - p\n",
    "    # x is the max degree and z is the cumulative distribution, formula according to Bollobas 1980\n",
    "    # distribution for the min degree can be obtained using symmetry\n",
    "    y0 = 0.52\n",
    "    x0 = p * N + np.sqrt(2 * p * q * N * np.log(N)) * (\n",
    "        1\n",
    "        - np.log(np.log(N)) / 4 / np.log(N)\n",
    "        - np.log(2 * np.sqrt(np.pi)) / 2 / np.log(N)\n",
    "        + y0 / 2 / np.log(N)\n",
    "    )\n",
    "\n",
    "    K[4, j] = 2 * p * N - x0\n",
    "    K[5, j] = x0\n",
    "\n",
    "    N_2 = (N - 2) * (N - 1) / 2\n",
    "    x0 = p * N_2 + np.sqrt(2 * p * q * N_2 * np.log(N_2)) * (\n",
    "        1\n",
    "        - np.log(np.log(N_2)) / 4 / np.log(N_2)\n",
    "        - np.log(2 * np.sqrt(np.pi)) / 2 / np.log(N_2)\n",
    "        + y0 / 2 / np.log(N_2)\n",
    "    )\n",
    "    K[6, j] = 2 * p * N_2 - x0\n",
    "    K[7, j] = x0"
   ]
  },
  {
   "cell_type": "code",
   "execution_count": 13,
   "metadata": {},
   "outputs": [],
   "source": [
    "## compute the degree heterogeneity index\n",
    "heterogeneity = (K[1, :] - p * Ns) / (p * Ns)\n",
    "heterogeneity2 = (K[3, :] - p * (Ns - 1) * (Ns - 2) / 2) / (\n",
    "    p * (Ns - 1) * (Ns - 2) / 2\n",
    ")"
   ]
  },
  {
   "cell_type": "code",
   "execution_count": 14,
   "metadata": {},
   "outputs": [],
   "source": [
    "np.savez(\n",
    "    f\"{results_dir}figure_4_data_v2.npz\",\n",
    "    Ns=Ns,\n",
    "    heterogeneity=heterogeneity,\n",
    "    heterogeneity2=heterogeneity2,\n",
    ")"
   ]
  },
  {
   "cell_type": "code",
   "execution_count": null,
   "metadata": {},
   "outputs": [],
   "source": []
  }
 ],
 "metadata": {
  "kernelspec": {
   "display_name": "venv_xgi",
   "language": "python",
   "name": "venv_xgi"
  },
  "language_info": {
   "codemirror_mode": {
    "name": "ipython",
    "version": 3
   },
   "file_extension": ".py",
   "mimetype": "text/x-python",
   "name": "python",
   "nbconvert_exporter": "python",
   "pygments_lexer": "ipython3",
   "version": "3.9.13"
  },
  "toc": {
   "base_numbering": 1,
   "nav_menu": {},
   "number_sections": true,
   "sideBar": true,
   "skip_h1_title": false,
   "title_cell": "Table of Contents",
   "title_sidebar": "Contents",
   "toc_cell": false,
   "toc_position": {},
   "toc_section_display": true,
   "toc_window_display": false
  }
 },
 "nbformat": 4,
 "nbformat_minor": 2
}
