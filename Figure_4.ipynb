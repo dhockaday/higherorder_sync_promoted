{
 "cells": [
  {
   "cell_type": "markdown",
   "metadata": {},
   "source": [
    "# Code for figure 4"
   ]
  },
  {
   "cell_type": "markdown",
   "metadata": {},
   "source": [
    "This code was used for the analysis presented in  \n",
    "\"Do higher-order interactions promote synchronization?\"  \n",
    "by Yuanzhao Zhang, Maxime Lucas, and Federico Battiston"
   ]
  },
  {
   "cell_type": "code",
   "execution_count": 1,
   "metadata": {},
   "outputs": [],
   "source": [
    "import numpy as np\n",
    "import matplotlib.pyplot as plt\n",
    "import seaborn as sb\n",
    "\n",
    "import utils as hu\n",
    "\n",
    "sb.set_context(\"paper\")\n",
    "sb.set_theme(style=\"ticks\")"
   ]
  },
  {
   "cell_type": "markdown",
   "metadata": {},
   "source": [
    "# Fig. 4: Higher-order interactions decrease degree heterogeneity in random hypergraphs"
   ]
  },
  {
   "cell_type": "code",
   "execution_count": 18,
   "metadata": {},
   "outputs": [],
   "source": [
    "# load if already computed \n",
    "with np.load('figure_4_data.npz') as data:\n",
    "    size = data['size']\n",
    "    heterogeneity = data['heterogeneity']\n",
    "    heterogeneity2 = data['heterogeneity2']"
   ]
  },
  {
   "cell_type": "code",
   "execution_count": 21,
   "metadata": {},
   "outputs": [
    {
     "data": {
      "image/png": "[encoded data removed]",
      "text/plain": [
       "<Figure size 288x194.4 with 1 Axes>"
      ]
     },
     "metadata": {},
     "output_type": "display_data"
    }
   ],
   "source": [
    "fig, ax = plt.subplots(figsize=(4, 2.7))\n",
    "\n",
    "ax.set_xlabel(r'$n$')\n",
    "# ax.set_ylabel(r\"$h^{(1)} / h^{(2)}$\")\n",
    "ax.set_ylabel(r\"$r'$\")\n",
    "\n",
    "ax.plot(size, heterogeneity/heterogeneity2, marker='o', c='b', label=\"Simulations\")\n",
    "ax.plot(size, np.sqrt(size)/2, marker='o', c=\"grey\", mfc=\"white\", label='Theoretical bound')\n",
    "\n",
    "ax.set_yticks([5, 10, 15])\n",
    "ax.set_xticks([100, 300, 500])\n",
    "\n",
    "ax.legend(loc='upper left', frameon=False, fontsize='small')\n",
    "\n",
    "sb.despine()\n",
    "\n",
    "fig_name = f\"figure_4\"\n",
    "# plt.savefig(f\"{fig_name}.pdf\", dpi=250, bbox_inches=\"tight\")\n",
    "\n",
    "plt.show()"
   ]
  },
  {
   "cell_type": "code",
   "execution_count": 19,
   "metadata": {},
   "outputs": [],
   "source": [
    "# if not already computed, compute\n",
    "# can take a bit of time\n",
    "## compute the expected values of min and max degrees using both simulations and theory\n",
    "\n",
    "size = np.arange(100, 501, 50)\n",
    "K = np.zeros((8,9))\n",
    "sample = 500\n",
    "for j in range(9):\n",
    "    # generate min and max degrees numerically to compare with theory\n",
    "    K_min = np.zeros(sample)\n",
    "    K_max = np.zeros(sample)\n",
    "\n",
    "    K_min_2 = np.zeros(sample)\n",
    "    K_max_2 = np.zeros(sample)\n",
    "\n",
    "    N = size[j] # number of nodes\n",
    "    ps = [.1, .1] # ps[i] is the wiring probability of any i+2 nodes (ps[0] is for edges, e.g.)\n",
    "    alpha = 0.5\n",
    "    rescale = True\n",
    "\n",
    "    for i in range(sample):\n",
    "    \n",
    "        # generate hyperedges \n",
    "        hyperedges_random = hu.random_hypergraph(N, ps)\n",
    "        L1, L2, L12, K1, K2 = hu.compute_laplacians_resource_constrained(hyperedges_random, N, alpha=alpha, return_k=True) # L12 is the multiorder one\n",
    "        #lyap_1, lyap_2, lyap_12 = compute_eigenvalues_resource_constrained(hyperedges_random, N, alpha=alpha)\n",
    "    \n",
    "        K_min[i] = np.min(K1)\n",
    "        K_max[i] = np.max(K1)\n",
    "        K_min_2[i] = np.min(K2)\n",
    "        K_max_2[i] = np.max(K2)\n",
    "    \n",
    "    K[0,j] = np.mean(K_min)\n",
    "    K[1,j] = np.mean(K_max)\n",
    "    K[2,j] = np.mean(K_min_2)\n",
    "    K[3,j] = np.mean(K_max_2)\n",
    "    \n",
    "    p = .1\n",
    "    q = 1-p\n",
    "    # x is the max degree and z is the cumulative distribution, formula according to Bollobas 1980\n",
    "    # distribution for the min degree can be obtained using symmetry\n",
    "    y0 = .52\n",
    "    x0 = p*N+np.sqrt(2*p*q*N*np.log(N))*(1-np.log(np.log(N))/4/np.log(N)-np.log(2*np.sqrt(np.pi))/2/np.log(N)+y0/2/np.log(N))\n",
    "\n",
    "    K[4,j] = 2*p*N-x0\n",
    "    K[5,j] = x0\n",
    "    \n",
    "    N_2 = (N-2)*(N-1)/2\n",
    "    x0 = p*N_2+np.sqrt(2*p*q*N_2*np.log(N_2))*(1-np.log(np.log(N_2))/4/np.log(N_2)-np.log(2*np.sqrt(np.pi))/2/np.log(N_2)+y0/2/np.log(N_2))\n",
    "    K[6,j] = 2*p*N_2-x0\n",
    "    K[7,j] = x0"
   ]
  },
  {
   "cell_type": "code",
   "execution_count": 20,
   "metadata": {},
   "outputs": [],
   "source": [
    "## compute the degree heterogeneity index\n",
    "heterogeneity = (K[1,:]-p*size)/(p*size)\n",
    "heterogeneity2 = (K[3,:]-p*(size-1)*(size-2)/2)/(p*(size-1)*(size-2)/2)"
   ]
  },
  {
   "cell_type": "code",
   "execution_count": null,
   "metadata": {},
   "outputs": [],
   "source": [
    "np.savez(\"figure_4_data.npz\", size=size, heterogeneity=heterogeneity, heterogeneity2=heterogeneity2)"
   ]
  },
  {
   "cell_type": "code",
   "execution_count": null,
   "metadata": {},
   "outputs": [],
   "source": []
  }
 ],
 "metadata": {
  "kernelspec": {
   "display_name": "Python 3 (ipykernel)",
   "language": "python",
   "name": "python3"
  },
  "language_info": {
   "codemirror_mode": {
    "name": "ipython",
    "version": 3
   },
   "file_extension": ".py",
   "mimetype": "text/x-python",
   "name": "python",
   "nbconvert_exporter": "python",
   "pygments_lexer": "ipython3",
   "version": "3.9.10"
  }
 },
 "nbformat": 4,
 "nbformat_minor": 2
}
