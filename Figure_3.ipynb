{
 "cells": [
  {
   "cell_type": "markdown",
   "id": "5a603f57",
   "metadata": {},
   "source": [
    "# Code for figure 3"
   ]
  },
  {
   "cell_type": "markdown",
   "id": "f6c3354d",
   "metadata": {},
   "source": [
    "This code was used for the analysis presented in  \n",
    "\"Do higher-order interactions promote synchronization?\"  \n",
    "by Yuanzhao Zhang, Maxime Lucas, and Federico Battiston"
   ]
  },
  {
   "cell_type": "code",
   "execution_count": 1,
   "id": "fe103878",
   "metadata": {},
   "outputs": [],
   "source": [
    "from pathlib import Path\n",
    "\n",
    "import matplotlib.pyplot as plt\n",
    "import numpy as np\n",
    "import seaborn as sb\n",
    "from mpl_toolkits.axes_grid1.inset_locator import inset_axes\n",
    "\n",
    "sb.set_theme(style=\"ticks\", context=\"paper\")\n",
    "\n",
    "fig_dir = \"figures/\"\n",
    "\n",
    "Path(fig_dir).mkdir(parents=True, exist_ok=True)"
   ]
  },
  {
   "cell_type": "markdown",
   "id": "51c4c69d",
   "metadata": {},
   "source": [
    "## Fig. 3: Higher-order interactions increase degree heterogeneity in simplicial complexes."
   ]
  },
  {
   "cell_type": "code",
   "execution_count": 2,
   "id": "43398bb9",
   "metadata": {},
   "outputs": [
    {
     "data": {
      "image/png": "[encoded data removed]",
      "text/plain": [
       "<Figure size 350x236 with 2 Axes>"
      ]
     },
     "metadata": {},
     "output_type": "display_data"
    }
   ],
   "source": [
    "palette = sb.dark_palette(\"g\", n_colors=4, reverse=True)\n",
    "sb.set_palette(palette)\n",
    "\n",
    "degrees = np.loadtxt('data/degrees_300.txt',delimiter=',')\n",
    "\n",
    "fig, ax = plt.subplots(figsize=(3.5, 2.36)) #4, 2.7))\n",
    "\n",
    "ax.set_xlabel(r'$k^{(1)}$')\n",
    "ax.set_ylabel(r'$k^{(2)}$')\n",
    "\n",
    "ax.scatter(degrees[0,:], degrees[1,:], s=50, marker='d', alpha=.5, label=r'$p=0.4$')\n",
    "ax.scatter(degrees[2,:], degrees[3,:], s=50, marker='^', alpha=.5, label=r'$p=0.5$')\n",
    "ax.scatter(degrees[4,:], degrees[5,:], s=50, marker='o', alpha=.5, label=r'$p=0.6$')\n",
    "\n",
    "ax.plot(degrees[0,:], degrees[0,:]*(degrees[0,:]-1)*.4/2, lw=1, c='lightgrey')#, label=r\"$0.4 \\binom{k^{(1)}}{2}$\")\n",
    "ax.plot(degrees[2,:], degrees[2,:]*(degrees[2,:]-1)*.5/2, lw=1, c='lightgrey')#, label=r\"$0.5 \\binom{k^{(1)}}{2}$\")\n",
    "ax.plot(degrees[4,:], degrees[4,:]*(degrees[4,:]-1)*.6/2, lw=1, c='lightgrey')#, label=r\"$0.6 \\binom{k^{(1)}}{2}$\")\n",
    "\n",
    "ax.text(120, 1700, r'$r = 1.45$', c='grey')\n",
    "ax.text(155, 4500, r'$r = 1.40$', c='grey')\n",
    "ax.text(185, 9000, r'$r = 1.30$', c='grey')\n",
    "\n",
    "ax.set_yticks([2500, 7500, 12500])\n",
    "ax.set_xticks([100, 150, 200])\n",
    "\n",
    "# add inset\n",
    "from mpl_toolkits.axes_grid1.inset_locator import inset_axes\n",
    "axins = inset_axes(ax, width=\"100%\", height=\"100%\",\n",
    "                    bbox_to_anchor=(.15, .6, .35, .4),\n",
    "                    bbox_transform=ax.transAxes)\n",
    "\n",
    "slope = np.loadtxt('data/slope.txt',delimiter=',')\n",
    "link_density = np.arange(.1, 1, .1)\n",
    "mean = np.zeros(9)\n",
    "std = np.zeros(9)\n",
    "for i in np.arange(9):\n",
    "    mean[i] = np.mean(slope[i,:])\n",
    "    std[i] = np.std(slope[i,:])\n",
    "\n",
    "axins.set_xlabel(r'$p$', labelpad=-9)\n",
    "axins.set_ylabel(r'$r$', labelpad=-7)\n",
    "axins.errorbar(link_density, mean, yerr=std, fmt='o', color='black', ms=3,\n",
    "             ecolor='silver')\n",
    "\n",
    "axins.set_yticks([1, 2])\n",
    "axins.set_xticks([0, 1])\n",
    "\n",
    "# add'theory' to legend\n",
    "handles, labels = ax.get_legend_handles_labels()\n",
    "# manually define a new patch \n",
    "from matplotlib.lines import Line2D\n",
    "line = Line2D([0], [0], color='lightgrey', lw=2, label=\"theory\")\n",
    "handles.append(line) \n",
    "ax.legend(handles=handles, loc='center left', frameon=False, ncol=1, #fontsize=\"small\",\n",
    "          bbox_to_anchor=(1, 0.5))\n",
    "\n",
    "ax.text(1, 0.02, \"a\", transform=ax.transAxes, va=\"bottom\", ha=\"right\", weight=\"bold\")\n",
    "axins.text(1, 0.95, \"b\", transform=axins.transAxes, va=\"top\", ha=\"right\", weight=\"bold\")\n",
    "\n",
    "sb.despine()\n",
    "\n",
    "fig_name = f\"figure_3\"\n",
    "plt.savefig(f\"{fig_dir}{fig_name}.pdf\", dpi=250, bbox_inches=\"tight\")"
   ]
  },
  {
   "cell_type": "code",
   "execution_count": null,
   "id": "633e39f2",
   "metadata": {},
   "outputs": [],
   "source": []
  },
  {
   "cell_type": "code",
   "execution_count": null,
   "id": "87378928",
   "metadata": {},
   "outputs": [],
   "source": []
  }
 ],
 "metadata": {
  "kernelspec": {
   "display_name": "venv_xgi",
   "language": "python",
   "name": "venv_xgi"
  },
  "language_info": {
   "codemirror_mode": {
    "name": "ipython",
    "version": 3
   },
   "file_extension": ".py",
   "mimetype": "text/x-python",
   "name": "python",
   "nbconvert_exporter": "python",
   "pygments_lexer": "ipython3",
   "version": "3.9.13"
  },
  "toc": {
   "base_numbering": 1,
   "nav_menu": {},
   "number_sections": true,
   "sideBar": true,
   "skip_h1_title": false,
   "title_cell": "Table of Contents",
   "title_sidebar": "Contents",
   "toc_cell": false,
   "toc_position": {},
   "toc_section_display": true,
   "toc_window_display": true
  }
 },
 "nbformat": 4,
 "nbformat_minor": 5
}
