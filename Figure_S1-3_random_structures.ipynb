{
 "cells": [
  {
   "cell_type": "markdown",
   "id": "417f4911",
   "metadata": {},
   "source": [
    "# Code for Figures 1 and 2"
   ]
  },
  {
   "cell_type": "markdown",
   "id": "ea90ba86",
   "metadata": {},
   "source": [
    "Here, using XGI, we reproduce figures 1 and 2 of the paper  \n",
    "\"Do higher-order interactions promote synchronization?\"  \n",
    "Yuanzhao Zhang *, Maxime Lucas *, Federico Battiston  \n",
    "[arXiv:2203.03060](https://doi.org/10.48550/arXiv.2203.03060)"
   ]
  },
  {
   "cell_type": "code",
   "execution_count": 1,
   "id": "8da1197d",
   "metadata": {},
   "outputs": [],
   "source": [
    "from pathlib import Path\n",
    "\n",
    "import matplotlib.pyplot as plt\n",
    "import networkx as nx\n",
    "import numpy as np\n",
    "import seaborn as sb\n",
    "from tqdm import tqdm\n",
    "\n",
    "import xgi\n",
    "from utils import (\n",
    "    compute_eigenvalues_multi,\n",
    "    shuffle_hyperedges,\n",
    "    random_flag_complex_d2,\n",
    "    flag_complex_d2,\n",
    ")\n",
    "\n",
    "sb.set_theme(style=\"ticks\", context=\"paper\")\n",
    "\n",
    "fig_dir = \"figures/\"\n",
    "results_dir = \"results/\"\n",
    "\n",
    "Path(fig_dir).mkdir(parents=True, exist_ok=True)\n",
    "Path(results_dir).mkdir(parents=True, exist_ok=True)"
   ]
  },
  {
   "cell_type": "markdown",
   "id": "b70265e6",
   "metadata": {},
   "source": [
    "## Fig. S1"
   ]
  },
  {
   "cell_type": "markdown",
   "id": "dee920f0",
   "metadata": {},
   "source": [
    "### Generate random structures"
   ]
  },
  {
   "cell_type": "code",
   "execution_count": 11,
   "id": "f568cc20",
   "metadata": {},
   "outputs": [],
   "source": [
    "N = 100  # number of nodes\n",
    "p = 0.4 # wiring probability\n",
    "n_repetitions = 5  # number of realisations of random structures\n",
    "\n",
    "# generate random simplicial complexes\n",
    "MSCs = [xgi.random_flag_complex(N, p=p) for i in range(n_repetitions)]"
   ]
  },
  {
   "cell_type": "code",
   "execution_count": 12,
   "id": "25a6105c",
   "metadata": {},
   "outputs": [],
   "source": [
    "p_shuffle = 1 # probability of shuffling hyperedge \n",
    "d_shuffle = 2 # order of hyperedges to shuffle\n",
    "\n",
    "HGs = []\n",
    "\n",
    "for S in MSCs:\n",
    "    edges = S.edges.filterby(\"order\", d_shuffle, \"lt\").members()\n",
    "    nodes = S.nodes\n",
    "\n",
    "    H = shuffle_hyperedges(order=d_shuffle, p=p_shuffle, S=S)\n",
    "\n",
    "    HGs.append(H)"
   ]
  },
  {
   "cell_type": "markdown",
   "id": "326410db",
   "metadata": {},
   "source": [
    "### Compute Lyapunov exponents"
   ]
  },
  {
   "cell_type": "code",
   "execution_count": 13,
   "id": "84b71678",
   "metadata": {},
   "outputs": [],
   "source": [
    "alphas = np.arange(0, 1.01, 0.1)\n",
    "n_alpha = len(alphas)\n",
    "\n",
    "lyaps_HG = np.zeros((n_alpha, N, n_repetitions))\n",
    "\n",
    "# compute Lyapunov exponents for all alpha values\n",
    "for j, HG in enumerate(HGs):  # for all hypergraphs\n",
    "\n",
    "    for i, alpha in enumerate(alphas):\n",
    "        lyap_multi = compute_eigenvalues_multi(\n",
    "            HG, orders=[1, 2], weights=[1 - alpha, alpha]\n",
    "        )\n",
    "\n",
    "        lyap_multi = np.sort(lyap_multi)[::-1]\n",
    "        lyaps_HG[i, :, j] = lyap_multi\n",
    "\n",
    "lyaps_MSC = np.zeros((n_alpha, N, n_repetitions))\n",
    "\n",
    "# compute Lyapunov exponents for all alpha values\n",
    "for j, MSC in enumerate(MSCs):  # for all simplicial complexes\n",
    "\n",
    "    for i, alpha in enumerate(alphas):\n",
    "        lyap_multi = compute_eigenvalues_multi(\n",
    "            MSC, orders=[1, 2], weights=[1 - alpha, alpha]\n",
    "        )\n",
    "\n",
    "        lyap_multi = np.sort(lyap_multi)[::-1]\n",
    "        lyaps_MSC[i, :, j] = lyap_multi"
   ]
  },
  {
   "cell_type": "code",
   "execution_count": 14,
   "id": "4d4c0e17",
   "metadata": {},
   "outputs": [],
   "source": [
    "# average and std over the random realisations\n",
    "# consider the second largest exponents only\n",
    "means_HG = np.mean(lyaps_HG[:, 1, :], axis=1)\n",
    "std_HG = np.std(lyaps_HG[:, 1, :], axis=1)\n",
    "\n",
    "means_MSC = np.mean(lyaps_MSC[:, 1, :], axis=1)\n",
    "std_MSC = np.std(lyaps_MSC[:, 1, :], axis=1)"
   ]
  },
  {
   "cell_type": "markdown",
   "id": "dd87fef7",
   "metadata": {},
   "source": [
    "### Plot results"
   ]
  },
  {
   "cell_type": "code",
   "execution_count": 22,
   "id": "4ba98161",
   "metadata": {},
   "outputs": [
    {
     "data": {
      "image/png": "[encoded data removed]",
      "text/plain": [
       "<Figure size 340x235 with 1 Axes>"
      ]
     },
     "metadata": {},
     "output_type": "display_data"
    }
   ],
   "source": [
    "fig, ax = plt.subplots(figsize=(3.4, 2.35))\n",
    "\n",
    "ax.errorbar(\n",
    "    alphas,\n",
    "    means_HG,\n",
    "    yerr=std_HG,\n",
    "    fmt=\"-o\",\n",
    "    color=\"C0\",\n",
    "    ecolor=\"gray\",\n",
    "    elinewidth=3,\n",
    "    capsize=0,\n",
    "    label=\"random hypergraph (shuffled triangles)\",\n",
    ")\n",
    "\n",
    "ax.errorbar(\n",
    "    alphas,\n",
    "    means_MSC,\n",
    "    yerr=std_MSC,\n",
    "    fmt=\"-o\",\n",
    "    color=\"C2\",\n",
    "    ecolor=\"gray\",\n",
    "    elinewidth=3,\n",
    "    capsize=0,\n",
    "    label=\"random flag complex\",\n",
    ")\n",
    "\n",
    "ax.set_ylabel(r\"$\\lambda_2$\")\n",
    "ax.set_xlabel(r\"$\\alpha$\")\n",
    "\n",
    "ax.set_xticks([0, 0.5, 1])\n",
    "# ax.set_yticks([-0.5, -0.7, -0.9])\n",
    "\n",
    "sb.despine()\n",
    "ax.legend(frameon=False, bbox_to_anchor=(0, 1.1), loc=\"upper left\")\n",
    "\n",
    "fig_name = f\"figure_S1_lambda2_HG_SC_N_{N}_ps_{p}_nrep_{n_repetitions}\"\n",
    "plt.savefig(f\"{fig_dir}{fig_name}.pdf\", dpi=250, bbox_inches=\"tight\")\n",
    "\n",
    "plt.show()"
   ]
  },
  {
   "cell_type": "markdown",
   "id": "6af6519a",
   "metadata": {},
   "source": [
    "## Fig S2"
   ]
  },
  {
   "cell_type": "code",
   "execution_count": 23,
   "id": "751a32e8",
   "metadata": {},
   "outputs": [],
   "source": [
    "N = 100  # number of nodes\n",
    "ps = [\n",
    "    0.1,\n",
    "    0.1,\n",
    "]  # ps[i] is the wiring probability of any i+2 nodes (ps[0] is for edges, e.g.)\n",
    "\n",
    "n_repetitions = 5  # number of realisations of random structures\n",
    "\n",
    "# generate random hypergraphs\n",
    "HGs = [xgi.random_hypergraph(N, ps) for i in range(n_repetitions)]"
   ]
  },
  {
   "cell_type": "code",
   "execution_count": 24,
   "id": "678e975f",
   "metadata": {},
   "outputs": [],
   "source": [
    "SCs = []\n",
    "\n",
    "for H in HGs:\n",
    "\n",
    "    # convert to a simplicial complex by adding subfaces\n",
    "    S = xgi.SimplicialComplex(H.edges.members()) \n",
    "    SCs.append(S)"
   ]
  },
  {
   "cell_type": "code",
   "execution_count": 25,
   "id": "1e38a5fb",
   "metadata": {},
   "outputs": [],
   "source": [
    "alphas = np.arange(0, 1.01, 0.1)\n",
    "n_alpha = len(alphas)\n",
    "\n",
    "lyaps_HG = np.zeros((n_alpha, N, n_repetitions))\n",
    "\n",
    "# compute Lyapunov exponents for all alpha values\n",
    "for j, HG in enumerate(HGs):  # for all hypergraphs\n",
    "\n",
    "    for i, alpha in enumerate(alphas):\n",
    "        lyap_multi = compute_eigenvalues_multi(\n",
    "            HG, orders=[1, 2], weights=[1 - alpha, alpha]\n",
    "        )\n",
    "\n",
    "        lyap_multi = np.sort(lyap_multi)[::-1]\n",
    "        lyaps_HG[i, :, j] = lyap_multi\n",
    "\n",
    "lyaps_SC = np.zeros((n_alpha, N, n_repetitions))\n",
    "\n",
    "# compute Lyapunov exponents for all alpha values\n",
    "for j, SC in enumerate(SCs):  # for all simplicial complexes\n",
    "\n",
    "    for i, alpha in enumerate(alphas):\n",
    "        lyap_multi = compute_eigenvalues_multi(\n",
    "            SC, orders=[1, 2], weights=[1 - alpha, alpha]\n",
    "        )\n",
    "\n",
    "        lyap_multi = np.sort(lyap_multi)[::-1]\n",
    "        lyaps_SC[i, :, j] = lyap_multi"
   ]
  },
  {
   "cell_type": "code",
   "execution_count": 26,
   "id": "d36f2107",
   "metadata": {},
   "outputs": [],
   "source": [
    "# average and std over the random realisations\n",
    "# consider the second largest exponents only\n",
    "means_HG = np.mean(lyaps_HG[:, 1, :], axis=1)\n",
    "std_HG = np.std(lyaps_HG[:, 1, :], axis=1)\n",
    "\n",
    "means_SC = np.mean(lyaps_SC[:, 1, :], axis=1)\n",
    "std_SC = np.std(lyaps_SC[:, 1, :], axis=1)"
   ]
  },
  {
   "cell_type": "code",
   "execution_count": 27,
   "id": "f374163d",
   "metadata": {},
   "outputs": [
    {
     "data": {
      "image/png": "[encoded data removed]",
      "text/plain": [
       "<Figure size 340x235 with 1 Axes>"
      ]
     },
     "metadata": {},
     "output_type": "display_data"
    }
   ],
   "source": [
    "fig, ax = plt.subplots(figsize=(3.4, 2.35))\n",
    "\n",
    "ax.errorbar(\n",
    "    alphas,\n",
    "    means_HG,\n",
    "    yerr=std_HG,\n",
    "    fmt=\"-o\",\n",
    "    color=\"C0\",\n",
    "    ecolor=\"gray\",\n",
    "    elinewidth=3,\n",
    "    capsize=0,\n",
    "    label=\"random hypergraph\",\n",
    ")\n",
    "\n",
    "ax.errorbar(\n",
    "    alphas,\n",
    "    means_SC,\n",
    "    yerr=std_SC,\n",
    "    fmt=\"-o\",\n",
    "    color=\"C2\",\n",
    "    ecolor=\"gray\",\n",
    "    elinewidth=3,\n",
    "    capsize=0,\n",
    "    label=\"random simplicial complex (added subfaces)\",\n",
    ")\n",
    "\n",
    "ax.set_ylabel(r\"$\\lambda_2$\")\n",
    "ax.set_xlabel(r\"$\\alpha$\")\n",
    "\n",
    "ax.set_xticks([0, 0.5, 1])\n",
    "\n",
    "sb.despine()\n",
    "ax.legend(frameon=False, bbox_to_anchor=(0.15, 1))\n",
    "\n",
    "fig_name = f\"figure_S2_lambda2_HG_SC_N_{N}_ps_{ps}_nrep_{n_repetitions}\"\n",
    "plt.savefig(f\"{fig_dir}{fig_name}.pdf\", dpi=250, bbox_inches=\"tight\")\n",
    "\n",
    "plt.show()"
   ]
  },
  {
   "cell_type": "markdown",
   "id": "6532c771",
   "metadata": {},
   "source": [
    "## Fig. S3"
   ]
  },
  {
   "cell_type": "code",
   "execution_count": 28,
   "id": "489f15b8",
   "metadata": {},
   "outputs": [
    {
     "name": "stderr",
     "output_type": "stream",
     "text": [
      "100%|███████████████████████████████████████████████████████████| 5/5 [03:06<00:00, 37.28s/it]\n"
     ]
    }
   ],
   "source": [
    "N = 100  # number of nodes\n",
    "n_repetitions = 50  # number of realisations of random structures\n",
    "\n",
    "p = 0.4\n",
    "p2s = [0.1, 0.3, 0.5, 0.7, 0.9] #np.arange(0.1, 1, 0.1)\n",
    "MSCs = []\n",
    "\n",
    "G = nx.fast_gnp_random_graph(N, p, seed=4)\n",
    "\n",
    "for p2 in tqdm(p2s):\n",
    "    MSC = [flag_complex_d2(G, p2=p2) for i in range(n_repetitions)]\n",
    "    MSCs.append(MSC)\n",
    "\n",
    "\n",
    "# SC = [xgi.random_simplicial_complex(N, ps=[0.1, 0.01]) for i in range(n_repetitions)]"
   ]
  },
  {
   "cell_type": "code",
   "execution_count": 29,
   "id": "f03d7e06",
   "metadata": {},
   "outputs": [
    {
     "name": "stderr",
     "output_type": "stream",
     "text": [
      "100%|███████████████████████████████████████████████████████████| 5/5 [02:56<00:00, 35.26s/it]\n"
     ]
    }
   ],
   "source": [
    "alphas = np.arange(0, 1.01, 0.1)\n",
    "n_alpha = len(alphas)\n",
    "\n",
    "lyaps_MSCs = []\n",
    "\n",
    "for MSC in tqdm(MSCs):\n",
    "    \n",
    "    lyaps_MSC = np.zeros((n_alpha, N, n_repetitions))\n",
    "\n",
    "    # compute Lyapunov exponents for all alpha values\n",
    "    for j, S in enumerate(MSC):  # for all simplicial complexes\n",
    "\n",
    "        for i, alpha in enumerate(alphas):\n",
    "            lyap_multi = compute_eigenvalues_multi(\n",
    "                S, orders=[1, 2], weights=[1 - alpha, alpha]\n",
    "            )\n",
    "\n",
    "            lyap_multi = np.sort(lyap_multi)[::-1]\n",
    "            lyaps_MSC[i, :, j] = lyap_multi\n",
    "  \n",
    "    lyaps_MSCs.append(lyaps_MSC)"
   ]
  },
  {
   "cell_type": "code",
   "execution_count": 30,
   "id": "8ab9b584",
   "metadata": {},
   "outputs": [],
   "source": [
    "means_SCs = []\n",
    "std_SCs = []\n",
    "\n",
    "for lyaps_MSC in lyaps_MSCs: \n",
    "    means_SC = np.mean(lyaps_MSC[:, 1, :], axis=1)\n",
    "    std_SC = np.std(lyaps_MSC[:, 1, :], axis=1)\n",
    "    \n",
    "    means_SCs.append(means_SC)\n",
    "    std_SCs.append(std_SC)"
   ]
  },
  {
   "cell_type": "code",
   "execution_count": 132,
   "id": "addf33a4",
   "metadata": {},
   "outputs": [
    {
     "data": {
      "image/png": "[encoded data removed]",
      "text/plain": [
       "<Figure size 340x250 with 1 Axes>"
      ]
     },
     "metadata": {},
     "output_type": "display_data"
    }
   ],
   "source": [
    "fig, ax = plt.subplots(figsize=(3.4, 2.5))\n",
    "\n",
    "\n",
    "palette = sb.dark_palette(\"g\", reverse=True, n_colors=len(p2s))\n",
    "sb.set_palette(palette)\n",
    "\n",
    "for i, (means_SC, std_SC) in enumerate(zip(means_SCs, std_SCs)):\n",
    "    ax.errorbar(\n",
    "        alphas,\n",
    "        means_SC,\n",
    "        #yerr=std_SC,\n",
    "        fmt=\"-o\",\n",
    "        # color=\"C2\",\n",
    "        ecolor=\"gray\",\n",
    "        elinewidth=3,\n",
    "        capsize=0,\n",
    "        label=f\"{p2s[i]:.1f}\",\n",
    "    )\n",
    "\n",
    "\n",
    "ax.set_ylabel(r\"$\\lambda_2$\")\n",
    "ax.set_xlabel(r\"$\\alpha$\")\n",
    "\n",
    "ax.set_xticks([0, 0.5, 1])\n",
    "\n",
    "sb.despine()\n",
    "ax.legend(frameon=False, title=\"$p_{\\Delta}$\")\n",
    "\n",
    "fig_name = f\"figure_S3_lambda2_MSC_N_{N}_p2s_{p2s}_nrep_{n_repetitions}\"\n",
    "plt.savefig(f\"{fig_dir}{fig_name}.pdf\", dpi=250, bbox_inches=\"tight\")\n",
    "\n",
    "plt.show()"
   ]
  },
  {
   "cell_type": "code",
   "execution_count": null,
   "id": "8f46a1fc",
   "metadata": {},
   "outputs": [],
   "source": []
  },
  {
   "cell_type": "code",
   "execution_count": null,
   "id": "479aefda",
   "metadata": {},
   "outputs": [],
   "source": []
  }
 ],
 "metadata": {
  "kernelspec": {
   "display_name": "venv_xgi",
   "language": "python",
   "name": "venv_xgi"
  },
  "language_info": {
   "codemirror_mode": {
    "name": "ipython",
    "version": 3
   },
   "file_extension": ".py",
   "mimetype": "text/x-python",
   "name": "python",
   "nbconvert_exporter": "python",
   "pygments_lexer": "ipython3",
   "version": "3.9.13"
  },
  "toc": {
   "base_numbering": 1,
   "nav_menu": {},
   "number_sections": true,
   "sideBar": true,
   "skip_h1_title": false,
   "title_cell": "Table of Contents",
   "title_sidebar": "Contents",
   "toc_cell": false,
   "toc_position": {},
   "toc_section_display": true,
   "toc_window_display": true
  },
  "vscode": {
   "interpreter": {
    "hash": "78db47bee367e3fae825d59af43d695909ce208402094df58551906768c6e91c"
   }
  }
 },
 "nbformat": 4,
 "nbformat_minor": 5
}
